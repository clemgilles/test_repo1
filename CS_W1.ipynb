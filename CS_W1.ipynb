{
  "nbformat": 4,
  "nbformat_minor": 0,
  "metadata": {
    "colab": {
      "provenance": []
    },
    "kernelspec": {
      "name": "python3",
      "display_name": "Python 3"
    },
    "language_info": {
      "name": "python"
    }
  },
  "cells": [
    {
      "cell_type": "code",
      "execution_count": null,
      "metadata": {
        "colab": {
          "base_uri": "https://localhost:8080/"
        },
        "id": "s4aGyAEH0LpJ",
        "outputId": "d338dc86-6d79-4627-863d-85b45b6ddbf7"
      },
      "outputs": [
        {
          "output_type": "stream",
          "name": "stdout",
          "text": [
            "selios\n"
          ]
        }
      ],
      "source": [
        "print(\"selios\")"
      ]
    },
    {
      "cell_type": "code",
      "source": [
        "name = input(\"enter your name:\")\n",
        "city = input(\"enter a city: \" )\n",
        "print (\"hello\", name, \"from\", city)"
      ],
      "metadata": {
        "colab": {
          "base_uri": "https://localhost:8080/"
        },
        "id": "HfP1RSEJ1ou2",
        "outputId": "a2ab9926-ac52-4cd3-ebd7-059b2e327198"
      },
      "execution_count": null,
      "outputs": [
        {
          "output_type": "stream",
          "name": "stdout",
          "text": [
            "enter your name:clem\n",
            "enter a city: london \n",
            "hello clem from london \n"
          ]
        }
      ]
    },
    {
      "cell_type": "code",
      "source": [
        "x = 10\n",
        "print(x*3)"
      ],
      "metadata": {
        "colab": {
          "base_uri": "https://localhost:8080/"
        },
        "id": "UKX28zZA3IRx",
        "outputId": "a795016a-e319-4dc5-a6df-8fccb955fb39"
      },
      "execution_count": null,
      "outputs": [
        {
          "output_type": "stream",
          "name": "stdout",
          "text": [
            "30\n"
          ]
        }
      ]
    },
    {
      "cell_type": "markdown",
      "source": [
        "exercise:\n",
        "\n",
        "Ask the user to enter their name, tel num and city.\n",
        "\n",
        "Print in the following form:\n",
        "\n",
        "Clem from aix, tel is 34343434"
      ],
      "metadata": {
        "id": "-fTBWSew3QuM"
      }
    },
    {
      "cell_type": "markdown",
      "source": [],
      "metadata": {
        "id": "1J3hPN7c6PZZ"
      }
    },
    {
      "cell_type": "code",
      "source": [
        "x = int(input(\"enter a number: \"))\n",
        "y = int(input(\"enter a number: \"))\n",
        "print (x+y)"
      ],
      "metadata": {
        "colab": {
          "base_uri": "https://localhost:8080/"
        },
        "id": "K7zDWiE66Rdk",
        "outputId": "363e4432-d947-4e31-e4c0-b76016987034"
      },
      "execution_count": null,
      "outputs": [
        {
          "output_type": "stream",
          "name": "stdout",
          "text": [
            "enter a number: 25\n",
            "enter a number: 45\n",
            "70\n"
          ]
        }
      ]
    },
    {
      "cell_type": "code",
      "source": [
        "x = int(input(\"enter a number: \"))\n",
        "y = float(input(\"enter a number: \"))\n",
        "print (x+y)"
      ],
      "metadata": {
        "colab": {
          "base_uri": "https://localhost:8080/"
        },
        "id": "qhPYqjYv6tAU",
        "outputId": "2fb16548-5929-447f-d0c2-3939278309c6"
      },
      "execution_count": null,
      "outputs": [
        {
          "output_type": "stream",
          "name": "stdout",
          "text": [
            "enter a number: 35\n",
            "enter a number: 5.5\n",
            "40.5\n"
          ]
        }
      ]
    },
    {
      "cell_type": "code",
      "source": [
        "x = float(input(\"enter a number: \"))\n",
        "y = float(input(\"enter a number: \"))\n",
        "print (x+y)"
      ],
      "metadata": {
        "colab": {
          "base_uri": "https://localhost:8080/"
        },
        "id": "fViduCyy7CEt",
        "outputId": "5f023ae4-0f76-40d2-dcf6-6b776aab75f0"
      },
      "execution_count": null,
      "outputs": [
        {
          "output_type": "stream",
          "name": "stdout",
          "text": [
            "enter a number: 6\n",
            "enter a number: 5.5\n",
            "11.5\n"
          ]
        }
      ]
    },
    {
      "cell_type": "code",
      "source": [
        "x=10\n",
        "y=0\n",
        "\n",
        "if y==0:\n",
        "  print(\"i cannot divide by zero\")\n",
        "else:\n",
        "  print(x/y)\n"
      ],
      "metadata": {
        "colab": {
          "base_uri": "https://localhost:8080/"
        },
        "id": "GjcmrxdU7-Lt",
        "outputId": "1cdd3ab7-2c1b-4709-e8d7-cee71ceeebfb"
      },
      "execution_count": null,
      "outputs": [
        {
          "output_type": "stream",
          "name": "stdout",
          "text": [
            "i cannot divide by zero\n"
          ]
        }
      ]
    },
    {
      "cell_type": "code",
      "source": [
        "x = int(input(\"enter a number\"))\n",
        "y = int(input(\"enter a number\"))\n",
        "if x>y:\n",
        "  print (\"mx is\", x)\n",
        "else:\n",
        "  print (\"max is\", y)"
      ],
      "metadata": {
        "colab": {
          "base_uri": "https://localhost:8080/"
        },
        "id": "fi-CXqUL9G03",
        "outputId": "324ce54a-c89d-4431-9844-ab0a65ef9e22"
      },
      "execution_count": null,
      "outputs": [
        {
          "output_type": "stream",
          "name": "stdout",
          "text": [
            "enter a number3\n",
            "enter a number13\n",
            "max is 13\n"
          ]
        }
      ]
    },
    {
      "cell_type": "code",
      "source": [
        "x= int(input(\"enter a number: \"))\n",
        "\n",
        "if x>0:\n",
        "  print(\"positive\")\n",
        "elif x==0:\n",
        "  print (\"zero\")\n",
        "else:\n",
        "  print(\"negative\")\n"
      ],
      "metadata": {
        "colab": {
          "base_uri": "https://localhost:8080/"
        },
        "id": "ws-QHHQbGvPs",
        "outputId": "47fb2ff7-70f4-45b2-b2a5-c9bc66bd99b3"
      },
      "execution_count": null,
      "outputs": [
        {
          "output_type": "stream",
          "name": "stdout",
          "text": [
            "enter a number: 48\n",
            "positive\n"
          ]
        }
      ]
    },
    {
      "cell_type": "code",
      "source": [
        "x= float(input(\"enter a number: \"))\n",
        "\n",
        "if x>=0 and x<10:\n",
        "  print(\"fail\")\n",
        "elif x>=10 and x<15:\n",
        "  print(\"pass\")\n",
        "elif x>=15 and x<=20:\n",
        "  print(\"distinction\")\n",
        "else:\n",
        "  print(\"error\")"
      ],
      "metadata": {
        "colab": {
          "base_uri": "https://localhost:8080/"
        },
        "id": "zmMokybOH_ZZ",
        "outputId": "87a1af93-bb7f-4a58-bea0-f4a44ef931b9"
      },
      "execution_count": null,
      "outputs": [
        {
          "output_type": "stream",
          "name": "stdout",
          "text": [
            "enter a number: 25\n",
            "error\n"
          ]
        }
      ]
    },
    {
      "cell_type": "code",
      "source": [
        "x= int(input(\"enter a number: \"))\n",
        "\n",
        "if x>0 and x<10:\n",
        "  print(\"numner netween 0 and 10\")\n",
        "else:\n",
        "  print(\"something else...\")\n"
      ],
      "metadata": {
        "colab": {
          "base_uri": "https://localhost:8080/"
        },
        "id": "FUwc27KLHS_P",
        "outputId": "5aa94940-ceaf-4f4b-b328-d0dcac7060da"
      },
      "execution_count": null,
      "outputs": [
        {
          "output_type": "stream",
          "name": "stdout",
          "text": [
            "enter a number: 10\n",
            "something else...\n"
          ]
        }
      ]
    },
    {
      "cell_type": "code",
      "source": [
        "age = int(input(\"how old are you\"))\n",
        "print(age*3)"
      ],
      "metadata": {
        "colab": {
          "base_uri": "https://localhost:8080/"
        },
        "id": "CkPDZr3V4FA4",
        "outputId": "f0430063-a6d3-4b4e-e221-596e0c8de968"
      },
      "execution_count": null,
      "outputs": [
        {
          "output_type": "stream",
          "name": "stdout",
          "text": [
            "how old are you20\n",
            "60\n"
          ]
        }
      ]
    }
  ]
}